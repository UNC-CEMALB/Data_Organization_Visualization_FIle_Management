{
 "cells": [
  {
   "cell_type": "markdown",
   "id": "a75b2745",
   "metadata": {},
   "source": [
    "# Supervised Machine Learning - Test Your Knowledge Key"
   ]
  },
  {
   "cell_type": "code",
   "execution_count": 2,
   "id": "f14b132b-ab14-4a0f-b5b7-aad32ea14126",
   "metadata": {},
   "outputs": [
    {
     "name": "stderr",
     "output_type": "stream",
     "text": [
      "Warning message:\n",
      "“package ‘Hmsic’ is not available for this version of R\n",
      "\n",
      "A version of this package for your version of R might be available elsewhere,\n",
      "see the ideas at\n",
      "https://cran.r-project.org/doc/manuals/r-patched/R-admin.html#Installing-packages”\n",
      "also installing the dependencies ‘listenv’, ‘parallelly’, ‘future’, ‘globals’, ‘shape’, ‘future.apply’, ‘progressr’, ‘SQUAREM’, ‘diagram’, ‘KernSmooth’, ‘lava’, ‘V8’, ‘reactR’, ‘rpart’, ‘survival’, ‘nnet’, ‘prodlim’, ‘vroom’, ‘tzdb’, ‘labelled’, ‘bigD’, ‘bitops’, ‘commonmark’, ‘juicyjuice’, ‘markdown’, ‘reactable’, ‘codetools’, ‘iterators’, ‘clock’, ‘ipred’, ‘timeDate’, ‘haven’, ‘readr’, ‘broom.helpers’, ‘gt’, ‘foreach’, ‘ModelMetrics’, ‘plyr’, ‘recipes’, ‘reshape2’, ‘class’, ‘proxy’, ‘Rcpp’, ‘gower’, ‘RANN’, ‘ROSE’, ‘hardhat’\n",
      "\n",
      "\n",
      "Warning message in install.packages(c(\"tidyverse\", \"gtsummary\", \"caret\", \"e1071\", :\n",
      "“installation of package ‘tzdb’ had non-zero exit status”\n",
      "Warning message in install.packages(c(\"tidyverse\", \"gtsummary\", \"caret\", \"e1071\", :\n",
      "“installation of package ‘vroom’ had non-zero exit status”\n",
      "Warning message in install.packages(c(\"tidyverse\", \"gtsummary\", \"caret\", \"e1071\", :\n",
      "“installation of package ‘clock’ had non-zero exit status”\n",
      "Warning message in install.packages(c(\"tidyverse\", \"gtsummary\", \"caret\", \"e1071\", :\n",
      "“installation of package ‘readr’ had non-zero exit status”\n",
      "Warning message in install.packages(c(\"tidyverse\", \"gtsummary\", \"caret\", \"e1071\", :\n",
      "“installation of package ‘haven’ had non-zero exit status”\n",
      "Warning message in install.packages(c(\"tidyverse\", \"gtsummary\", \"caret\", \"e1071\", :\n",
      "“installation of package ‘labelled’ had non-zero exit status”\n",
      "Warning message in install.packages(c(\"tidyverse\", \"gtsummary\", \"caret\", \"e1071\", :\n",
      "“installation of package ‘tidyverse’ had non-zero exit status”\n",
      "Warning message in install.packages(c(\"tidyverse\", \"gtsummary\", \"caret\", \"e1071\", :\n",
      "“installation of package ‘broom.helpers’ had non-zero exit status”\n",
      "Warning message in install.packages(c(\"tidyverse\", \"gtsummary\", \"caret\", \"e1071\", :\n",
      "“installation of package ‘gtsummary’ had non-zero exit status”\n",
      "Warning message in install.packages(c(\"tidyverse\", \"gtsummary\", \"caret\", \"e1071\", :\n",
      "“installation of package ‘recipes’ had non-zero exit status”\n",
      "Warning message in install.packages(c(\"tidyverse\", \"gtsummary\", \"caret\", \"e1071\", :\n",
      "“installation of package ‘caret’ had non-zero exit status”\n",
      "Warning message in install.packages(c(\"tidyverse\", \"gtsummary\", \"caret\", \"e1071\", :\n",
      "“installation of package ‘themis’ had non-zero exit status”\n",
      "Updating HTML index of packages in '.Library'\n",
      "\n",
      "Making 'packages.html' ...\n",
      " done\n",
      "\n"
     ]
    }
   ],
   "source": [
    "install.packages(c(\"tidyverse\", \"gtsummary\", \"caret\", \"e1071\", \"Hmsic\", \"randomForest\", \"pROC\", \"themis\"))"
   ]
  },
  {
   "cell_type": "code",
   "execution_count": 1,
   "id": "f24fac46",
   "metadata": {},
   "outputs": [
    {
     "name": "stderr",
     "output_type": "stream",
     "text": [
      "\n",
      "Attaching package: ‘lubridate’\n",
      "\n",
      "\n",
      "The following objects are masked from ‘package:base’:\n",
      "\n",
      "    date, intersect, setdiff, union\n",
      "\n",
      "\n"
     ]
    },
    {
     "ename": "ERROR",
     "evalue": "Error in library(tidyverse): there is no package called ‘tidyverse’\n",
     "output_type": "error",
     "traceback": [
      "Error in library(tidyverse): there is no package called ‘tidyverse’\nTraceback:\n",
      "1. library(tidyverse)"
     ]
    }
   ],
   "source": [
    "library(readxl);\n",
    "library(lubridate);\n",
    "library(tidyverse);\n",
    "library(gtsummary);\n",
    "# # library(caret);\n",
    "# library(e1071);\n",
    "# library(Hmisc);\n",
    "library(randomForest);\n",
    "# library(pROC);\n",
    "# library(themis);"
   ]
  },
  {
   "cell_type": "code",
   "execution_count": null,
   "id": "f344ccbc",
   "metadata": {},
   "outputs": [],
   "source": [
    "# Load the data\n",
    "chromium_data <- data.frame(read_excel(\"Module5/Module5_Chromium_Data.xlsx\"))\n",
    "\n",
    "# View the top of the dataset\n",
    "head(chromium_data) "
   ]
  },
  {
   "cell_type": "markdown",
   "id": "1f9c80af",
   "metadata": {},
   "source": [
    "Like we did in the module, we'll start by changing some of the data types. "
   ]
  },
  {
   "cell_type": "code",
   "execution_count": null,
   "id": "f27dcfc0",
   "metadata": {},
   "outputs": [],
   "source": [
    "chromium_data = chromium_data %>%\n",
    "    # Converting `Detect_Concentration from a character to a factor\n",
    "    mutate(Detect_Concentration = relevel(factor(ifelse(Detect_Concentration == \"D\", 1, 0)), ref = \"0\"),\n",
    "        # converting water sample date from a character to a date type \n",
    "        Water_Sample_Date = mdy(Water_Sample_Date))\n",
    "\n",
    "head(chromium_data)"
   ]
  },
  {
   "cell_type": "markdown",
   "id": "605bc019",
   "metadata": {},
   "source": [
    "Testing for differences in predictor variables acrosss the outcome classes."
   ]
  },
  {
   "cell_type": "code",
   "execution_count": null,
   "id": "c01bf6fb",
   "metadata": {},
   "outputs": [],
   "source": [
    "chromium_data %>%\n",
    "    tbl_summary(by = Detect_Concentration,\n",
    "    # Selecting columns to include\n",
    "    include = colnames(chromium_data[c(2:8)]), \n",
    "    # Displaying the mean and standard deviation in parantheses for all continuous variables\n",
    "                statistic = list(all_continuous() ~ \"{mean} ({sd})\")) %>%\n",
    "    # Adding a column that displays the total number of samples for each variable\n",
    "    # This will be 713 for all variables since we have no missing data\n",
    "    add_n() %>% \n",
    "    # Adding a column that dispalys the p value from anova\n",
    "    add_p(test = list(all_continuous() ~ \"aov\")) %>% \n",
    "    as_flex_table() %>%\n",
    "    bold(bold = TRUE, part = \"header\")"
   ]
  },
  {
   "cell_type": "markdown",
   "id": "95da63e0-3a7a-4f07-b240-4975115d631f",
   "metadata": {},
   "source": [
    "Setting up cross validation and parameters to be tuned."
   ]
  },
  {
   "cell_type": "code",
   "execution_count": null,
   "id": "e70b5804-9047-4843-a994-b0d500245da5",
   "metadata": {},
   "outputs": [],
   "source": [
    "set.seed(12)\n",
    "\n",
    "chromium_index = createFolds(chromium_data$Detect_Concentration, k = 5) \n",
    "\n",
    "ntree_values = c(50, 250, 500) # number of trees \n",
    "p = dim(well_data)[2] - 1 # number of predictor variables in the dataset\n",
    "mtry_values = c(sqrt(p), p/2, p) # number of predictors to be used in the model"
   ]
  },
  {
   "cell_type": "markdown",
   "id": "781f5d54-1470-445d-addb-96f84c1d5227",
   "metadata": {},
   "source": [
    "Predicting with RF"
   ]
  },
  {
   "cell_type": "code",
   "execution_count": null,
   "id": "30d666d5-00ef-4f87-8f7d-8b33fceed08a",
   "metadata": {},
   "outputs": [],
   "source": [
    "# Setting the seed again so the predictions are consistent\n",
    "set.seed(12)\n",
    "\n",
    "# Creating an empty dataframe to save the metrics\n",
    "metrics_df = data.frame()\n",
    "\n",
    "# Iterating through the cross validation folds\n",
    "for (i in 1:length(chromium_index)){\n",
    "    # Training data\n",
    "    data_train = chromium_data[-chromium_index[[i]],]\n",
    "    \n",
    "    # Test data\n",
    "    data_test = chromium_data[chromium_index[[i]],]\n",
    "    \n",
    "    # Creating empty lists and dataframes to store errors \n",
    "    reg_rf_pred_tune = list()\n",
    "    rf_OOB_errors = list()\n",
    "    rf_error_df = data.frame()\n",
    "    \n",
    "    # Tuning parameters: using ntree and mtry values to determine which combination yields the smallest OOB error \n",
    "    # from the validation datasets\n",
    "    for (j in 1:length(ntree_values)){\n",
    "        for (k in 1:length(mtry_values)){\n",
    "            \n",
    "            # Running RF to tune parameters\n",
    "            reg_rf_pred_tune[[k]] = randomForest(Detect_Concentration ~ ., data = data_train, \n",
    "                                                 ntree = ntree_values[j], mtry = mtry_values[k])\n",
    "            # Obtaining the OOB error\n",
    "            rf_OOB_errors[[k]] = data.frame(\"Tree Number\" = ntree_values[j], \"Variable Number\" = mtry_values[k], \n",
    "                                   \"OOB_errors\" = reg_rf_pred_tune[[k]]$err.rate[ntree_values[j],1])\n",
    "            \n",
    "            # Storing the values in a dataframe\n",
    "            rf_error_df = rbind(rf_error_df, rf_OOB_errors[[k]])\n",
    "        }\n",
    "    }\n",
    "    \n",
    "    # Finding the lowest OOB error using best number of predictors at split\n",
    "    best_oob_errors <- which(rf_error_df$OOB_errors == min(rf_error_df$OOB_errors))\n",
    "\n",
    "    # Now running RF on the entire training set with the tuned parameters\n",
    "    reg_rf <- randomForest(Detect_Concentration ~ ., data = data_train,\n",
    "                               ntree = rf_error_df$Tree.Number[min(best_oob_errors)],\n",
    "                               mtry = rf_error_df$Variable.Number[min(best_oob_errors)])\n",
    "\n",
    "    # Predicting on test set and adding the predicted values as an additional column to the test data\n",
    "    data_test$Pred_Detect_Concentration = predict(reg_rf, newdata = data_test, type = \"response\")\n",
    "\n",
    "    # Obtaining the confusion matrix\n",
    "    matrix = confusionMatrix(data = data_test$Pred_Detect_Concentration, \n",
    "                             reference = data_test$Detect_Concentration, positive = \"1\")\n",
    "    \n",
    "    # Extracting balanced accuracy, sensitivity, specificity, and PPV\n",
    "    matrix_values = data.frame(t(c(matrix$byClass[11])), t(c(matrix$byClass[1:3])))\n",
    "    \n",
    "    # Adding values to df to be averaged across the 5 splits from CV\n",
    "    metrics_df = rbind(metrics_df, matrix_values)\n",
    "}\n",
    "\n",
    "# Taking average\n",
    "metrics_df = metrics_df %>%\n",
    "    summarise(`Balanced Accuracy` = mean(Balanced.Accuracy), Sensitivity = mean(Sensitivity), \n",
    "          Specificity = mean(Specificity), PPV = mean(Pos.Pred.Value))\n",
    "\n",
    "# Viewing the model's performance metrics\n",
    "metrics_df"
   ]
  }
 ],
 "metadata": {
  "kernelspec": {
   "display_name": "R",
   "language": "R",
   "name": "ir"
  },
  "language_info": {
   "codemirror_mode": "r",
   "file_extension": ".r",
   "mimetype": "text/x-r-source",
   "name": "R",
   "pygments_lexer": "r",
   "version": "4.3.1"
  }
 },
 "nbformat": 4,
 "nbformat_minor": 5
}
