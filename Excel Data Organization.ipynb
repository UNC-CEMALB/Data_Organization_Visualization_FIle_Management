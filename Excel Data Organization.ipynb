{
 "cells": [
  {
   "attachments": {},
   "cell_type": "markdown",
   "id": "b014d9f5",
   "metadata": {},
   "source": [
    "# Excel Data Organization\n",
    "\n",
    "*These steps are by no means exhaustive! Rather use this dataset as an example of a way to clean the data. Datasets often come in many different formats from our wet bench colleagues, therefore some steps might need to be added, removed, or amended.*\n",
    "\n",
    "\n",
    "1.\tPrior to **ANY** edits, click “File” --> “Save As” to save a new version file that will be the cleaned version of the data.\n",
    "    - This is very important in the instance that the original version needs to be referred back to (ie. if data is accidently deleted). \n",
    "    \n",
    "2.\tThe file needs to be named something indicative of the data it contains followed by the current date (ie. Allostatic_Mediator_Data_061622). \n",
    "\n",
    "3.\tIn Excel, remove extraneous white space (ie. these lines of empty cells need to be removed). \n",
    "    - Excel Trick: Select all lines that need to be removed and press Ctrl + - (minus key) for Mac users. \n",
    "\n",
    "<img src=\"Excel_Data_Files/Picture1.png\" width=\"696\" />\n",
    "\n",
    "\n",
    "4.\tMissing data (empty cells) should be replaced with “NA”.\n",
    "5.\tRelabel the subject number/identifier column as “Original_Number” and create an ordinal subject number column labeled “Subject Number”. \n",
    "    - \tR reads in spaces between words as periods, therefore it’s common practice to replace spaces with underscores when doing data analysis in R. \n",
    "<img src=\"Excel_Data_Files/Picture2.png\" width=\"696\" />\n",
    "\n",
    " \n",
    "6.\tCreate a tab for metadata that explains what each column represents in the dataset. The metadata tab should be moved to the first tab and entitled “XXXXX_METADATA” (ie. “Allostatic_METADATA).\n",
    "\n",
    "7.\tRelabel the data tab as “XXXX_DATA” (ie. “Allostatic_DATA). \n",
    "<img src=\"Excel_Data_Files/Picture3.png\" width=\"696\" />\n",
    "8.\tAbbreviate categorical data and add those abbreviations to the metadata. \n",
    "    - This helps reducing typing in R.\n",
    "<img src=\"Excel_Data_Files/Picture4.png\" width=\"696\" />\n",
    "9.\tRemove dashes from data and replace Greek letters with first letter of the word in English (ie. TNF-$\\alpha$ becomes TNFa). \n",
    "\n",
    "10.\tBold all column names and center all data. \n",
    "<img src=\"Excel_Data_Files/Picture5.png\" width=\"696\" />\n",
    "11.\tCreate a “Subject_ID” column that combines the subject number with the variable of interest (Group). \n",
    "    - This is useful for analyses to identify outliers by the subject number and the group. \n",
    "<img src=\"Excel_Data_Files/Picture6.png\" width=\"696\" />\n",
    "12.\t Convert the data from a wide to long format if necessary and categorize the data types. \n",
    "\n",
    "**Wide Format**\n",
    "<img src=\"Excel_Data_Files/Picture7.png\" width=\"696\" />\n",
    "\n",
    "**Long Format**\n",
    "<img src=\"Excel_Data_Files/Picture8.png\" width=\"696\" />\n",
    " \n",
    "13.\tSort the data by subject number. \n",
    "<img src=\"Excel_Data_Files/Picture9.png\" width=\"696\" />\n",
    "14.\tCreate separate files for the experimental data and demographics data (ie. sex, race, age).\n",
    "15.\tThe demographics dataset should be entitled “XXX_Subject_Info_061622” (ie. “Allostatic_Subject_Info_061622”). \n",
    "    - This wasn’t done for this dataset, since it had a smaller size and the analyses were simple. "
   ]
  },
  {
   "cell_type": "code",
   "execution_count": null,
   "id": "51bc0dc4",
   "metadata": {},
   "outputs": [],
   "source": []
  }
 ],
 "metadata": {
  "kernelspec": {
   "display_name": "R",
   "language": "R",
   "name": "ir"
  },
  "language_info": {
   "codemirror_mode": "r",
   "file_extension": ".r",
   "mimetype": "text/x-r-source",
   "name": "R",
   "pygments_lexer": "r",
   "version": "4.1.2"
  }
 },
 "nbformat": 4,
 "nbformat_minor": 5
}
