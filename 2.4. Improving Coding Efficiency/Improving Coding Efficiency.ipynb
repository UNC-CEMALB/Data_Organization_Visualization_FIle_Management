{
 "cells": [
  {
   "cell_type": "markdown",
   "id": "2398d1a9",
   "metadata": {},
   "source": [
    "PUT INTO 1.2.!!!!\n",
    "\n",
    "A **conditional statement** is written to execute one block of code if the statement is true and a different block of code if the statement is false. \n",
    "\n",
    "A conditional statement requires a boolean or true/false statement that will be either TRUE or FALSE. A couple of the more commonly used functions used to create conditional statements include...\n",
    " - `if(){}` or an if statement means \"execute R code when the condition is met\".\n",
    " - `if(){} else{}` or an if/else statement means \"execute R code when condition 1 is met, if not excute R code for condition 2\".\n",
    "\n",
    "There are six comparison operators that are used to created these boolean values. \n",
    "- `==` means \"equals\".\n",
    "- `!=` means \"not equal\".\n",
    "- `<` means \"less than\".\n",
    "- `>` means \"greater than\".\n",
    "- `<=` means \"less than or equal to\".\n",
    "- `>=` mean \"greater than or equal to\".\n",
    "\n",
    "There are also three logical operators that are used to create these boolean values.\n",
    "- `&` means \"and\".\n",
    "- `|` means \"or\".\n",
    "- `!` means \"not\".\n",
    "\n",
    "We'll be using a dataset that has subject demographic data that contains information on each subject's race. Often times statistical tests are run across racial groups, however often times we don't have enough subjects in non-White racial groups to run these tests. Therefore, race will be dichotomized into White and non-White subjects to increase statistical power.CHANGE!!!\n",
    "\n",
    "1. How many White and non-White subjects are there?"
   ]
  },
  {
   "cell_type": "code",
   "execution_count": 5,
   "id": "90a91a3c",
   "metadata": {},
   "outputs": [
    {
     "data": {
      "text/html": [
       "<style>\n",
       ".list-inline {list-style: none; margin:0; padding: 0}\n",
       ".list-inline>li {display: inline-block}\n",
       ".list-inline>li:not(:last-child)::after {content: \"\\00b7\"; padding: 0 .5ex}\n",
       "</style>\n",
       "<ol class=list-inline><li>TRUE</li><li>FALSE</li><li>TRUE</li><li>TRUE</li><li>FALSE</li><li>FALSE</li><li>FALSE</li><li>TRUE</li><li>TRUE</li><li>TRUE</li><li>TRUE</li><li>TRUE</li><li>TRUE</li><li>TRUE</li><li>FALSE</li><li>FALSE</li><li>FALSE</li><li>TRUE</li><li>FALSE</li><li>FALSE</li><li>TRUE</li><li>TRUE</li><li>TRUE</li><li>TRUE</li><li>TRUE</li><li>FALSE</li><li>TRUE</li><li>FALSE</li><li>FALSE</li><li>FALSE</li><li>TRUE</li><li>TRUE</li><li>FALSE</li><li>TRUE</li><li>TRUE</li><li>TRUE</li><li>FALSE</li><li>TRUE</li><li>TRUE</li><li>TRUE</li><li>TRUE</li><li>FALSE</li><li>TRUE</li><li>TRUE</li></ol>\n"
      ],
      "text/latex": [
       "\\begin{enumerate*}\n",
       "\\item TRUE\n",
       "\\item FALSE\n",
       "\\item TRUE\n",
       "\\item TRUE\n",
       "\\item FALSE\n",
       "\\item FALSE\n",
       "\\item FALSE\n",
       "\\item TRUE\n",
       "\\item TRUE\n",
       "\\item TRUE\n",
       "\\item TRUE\n",
       "\\item TRUE\n",
       "\\item TRUE\n",
       "\\item TRUE\n",
       "\\item FALSE\n",
       "\\item FALSE\n",
       "\\item FALSE\n",
       "\\item TRUE\n",
       "\\item FALSE\n",
       "\\item FALSE\n",
       "\\item TRUE\n",
       "\\item TRUE\n",
       "\\item TRUE\n",
       "\\item TRUE\n",
       "\\item TRUE\n",
       "\\item FALSE\n",
       "\\item TRUE\n",
       "\\item FALSE\n",
       "\\item FALSE\n",
       "\\item FALSE\n",
       "\\item TRUE\n",
       "\\item TRUE\n",
       "\\item FALSE\n",
       "\\item TRUE\n",
       "\\item TRUE\n",
       "\\item TRUE\n",
       "\\item FALSE\n",
       "\\item TRUE\n",
       "\\item TRUE\n",
       "\\item TRUE\n",
       "\\item TRUE\n",
       "\\item FALSE\n",
       "\\item TRUE\n",
       "\\item TRUE\n",
       "\\end{enumerate*}\n"
      ],
      "text/markdown": [
       "1. TRUE\n",
       "2. FALSE\n",
       "3. TRUE\n",
       "4. TRUE\n",
       "5. FALSE\n",
       "6. FALSE\n",
       "7. FALSE\n",
       "8. TRUE\n",
       "9. TRUE\n",
       "10. TRUE\n",
       "11. TRUE\n",
       "12. TRUE\n",
       "13. TRUE\n",
       "14. TRUE\n",
       "15. FALSE\n",
       "16. FALSE\n",
       "17. FALSE\n",
       "18. TRUE\n",
       "19. FALSE\n",
       "20. FALSE\n",
       "21. TRUE\n",
       "22. TRUE\n",
       "23. TRUE\n",
       "24. TRUE\n",
       "25. TRUE\n",
       "26. FALSE\n",
       "27. TRUE\n",
       "28. FALSE\n",
       "29. FALSE\n",
       "30. FALSE\n",
       "31. TRUE\n",
       "32. TRUE\n",
       "33. FALSE\n",
       "34. TRUE\n",
       "35. TRUE\n",
       "36. TRUE\n",
       "37. FALSE\n",
       "38. TRUE\n",
       "39. TRUE\n",
       "40. TRUE\n",
       "41. TRUE\n",
       "42. FALSE\n",
       "43. TRUE\n",
       "44. TRUE\n",
       "\n",
       "\n"
      ],
      "text/plain": [
       " [1]  TRUE FALSE  TRUE  TRUE FALSE FALSE FALSE  TRUE  TRUE  TRUE  TRUE  TRUE\n",
       "[13]  TRUE  TRUE FALSE FALSE FALSE  TRUE FALSE FALSE  TRUE  TRUE  TRUE  TRUE\n",
       "[25]  TRUE FALSE  TRUE FALSE FALSE FALSE  TRUE  TRUE FALSE  TRUE  TRUE  TRUE\n",
       "[37] FALSE  TRUE  TRUE  TRUE  TRUE FALSE  TRUE  TRUE"
      ]
     },
     "metadata": {},
     "output_type": "display_data"
    }
   ],
   "source": [
    "# put in 2.1\n",
    "# Let's start by reviewing a conditional statement: Is the subject's race White?\n",
    "subject_data$Race == 'W'"
   ]
  },
  {
   "cell_type": "markdown",
   "id": "a7f05812",
   "metadata": {},
   "source": [
    "We can see R outputed a boolean vector (ie. a vector containing TRUE/FALSE values), where TRUE values correspond to subjects that are White and FALSE values correspond to subjects who are non-White."
   ]
  },
  {
   "cell_type": "code",
   "execution_count": 9,
   "id": "ae06549d",
   "metadata": {},
   "outputs": [
    {
     "data": {
      "text/html": [
       "28"
      ],
      "text/latex": [
       "28"
      ],
      "text/markdown": [
       "28"
      ],
      "text/plain": [
       "[1] 28"
      ]
     },
     "metadata": {},
     "output_type": "display_data"
    }
   ],
   "source": [
    "# Number of White subjects\n",
    "sum(subject_data$Race == 'W')"
   ]
  },
  {
   "cell_type": "code",
   "execution_count": 10,
   "id": "952544b2",
   "metadata": {},
   "outputs": [
    {
     "data": {
      "text/html": [
       "16"
      ],
      "text/latex": [
       "16"
      ],
      "text/markdown": [
       "16"
      ],
      "text/plain": [
       "[1] 16"
      ]
     },
     "metadata": {},
     "output_type": "display_data"
    }
   ],
   "source": [
    "# Number of non-White subjects\n",
    "length(subject_data$Race) - sum(subject_data$Race == 'W')"
   ]
  },
  {
   "cell_type": "markdown",
   "id": "40eba7c8",
   "metadata": {},
   "source": [
    "words."
   ]
  },
  {
   "cell_type": "markdown",
   "id": "48480dfe",
   "metadata": {},
   "source": [
    "# Improving Coding Efficiency\n",
    "\n",
    "This training module was developed by Alexis Payton, Dr. Kyle R. Roell, and Dr. Julia E. Rager\n",
    "\n",
    "Spring 2023\n",
    "\n",
    "## Introduction to Training Module\n",
    "\n",
    "Coding efficiency involves performing a task in as few lines as possible and can...\n",
    "- eliminate redundancies\n",
    "- reduce the number of typos\n",
    "- help other coders understand script \n",
    "\n",
    "In this module, we'll explore how functions and loops are often used to make code more succint. As a brief overview, a **function** contains a block of code organized together to perform one specific task, while a **loop** is employed when we want to perform a repetitive task.\n",
    "\n",
    "Let's start with loops first. There are three main types of loops in R: `for`, `while`, and `repeat`. However, we're only going to discuss the `for` loop in this module. For more information on the others and loops in general, click [here](https://intro2r.com/loops.html).\n",
    "\n",
    "A `for` loop is used when we want to specifiy the number of times we'd like R to repeat a task. We'll load in our data and then explore how a for loop works. \n",
    "\n",
    "\n",
    "### Installing required R packages\n",
    "If you already have these packages installed, you can skip this step, or you can run the below code which checks installation status for you"
   ]
  },
  {
   "cell_type": "code",
   "execution_count": 1,
   "id": "b2fa4f76",
   "metadata": {},
   "outputs": [
    {
     "name": "stderr",
     "output_type": "stream",
     "text": [
      "Loading required namespace: readxl\n",
      "\n"
     ]
    }
   ],
   "source": [
    "if (!requireNamespace(\"readxl\"))\n",
    "  install.packages(\"readxl\");"
   ]
  },
  {
   "cell_type": "markdown",
   "id": "7800f94a",
   "metadata": {},
   "source": [
    "### Loading required R packages"
   ]
  },
  {
   "cell_type": "code",
   "execution_count": 2,
   "id": "78690959",
   "metadata": {},
   "outputs": [],
   "source": [
    "library(readxl)"
   ]
  },
  {
   "cell_type": "markdown",
   "id": "ef87eaac",
   "metadata": {},
   "source": [
    "### Set your working directory"
   ]
  },
  {
   "cell_type": "code",
   "execution_count": null,
   "id": "bc2eac9d",
   "metadata": {},
   "outputs": [],
   "source": [
    "setwd(\"/filepath to where your input files are\")"
   ]
  },
  {
   "cell_type": "markdown",
   "id": "702b6e91",
   "metadata": {},
   "source": [
    "### Importing example dataset\n",
    "This example dataset contains subject demographic data, including serum cotinine concentrations to confirm a subject's tobacco product use group (ie. non-smoker, e-cigarette user, or cigarette smoker). Let's upload and view these data:"
   ]
  },
  {
   "cell_type": "code",
   "execution_count": 25,
   "id": "89fc7997",
   "metadata": {},
   "outputs": [
    {
     "data": {
      "text/html": [
       "<table class=\"dataframe\">\n",
       "<caption>A data.frame: 6 × 9</caption>\n",
       "<thead>\n",
       "\t<tr><th></th><th scope=col>SubjectNo</th><th scope=col>Group</th><th scope=col>SubjectID</th><th scope=col>Race</th><th scope=col>Ethnicity</th><th scope=col>Sex</th><th scope=col>Age</th><th scope=col>BMI</th><th scope=col>Serum_Cotinine</th></tr>\n",
       "\t<tr><th></th><th scope=col>&lt;dbl&gt;</th><th scope=col>&lt;chr&gt;</th><th scope=col>&lt;chr&gt;</th><th scope=col>&lt;chr&gt;</th><th scope=col>&lt;chr&gt;</th><th scope=col>&lt;chr&gt;</th><th scope=col>&lt;dbl&gt;</th><th scope=col>&lt;dbl&gt;</th><th scope=col>&lt;dbl&gt;</th></tr>\n",
       "</thead>\n",
       "<tbody>\n",
       "\t<tr><th scope=row>1</th><td>1</td><td>NS</td><td>NS_1</td><td>W </td><td>NH</td><td>F</td><td>28</td><td>37.67</td><td>0</td></tr>\n",
       "\t<tr><th scope=row>2</th><td>2</td><td>NS</td><td>NS_2</td><td>O </td><td>H </td><td>F</td><td>33</td><td>35.00</td><td>0</td></tr>\n",
       "\t<tr><th scope=row>3</th><td>3</td><td>NS</td><td>NS_3</td><td>W </td><td>NH</td><td>F</td><td>25</td><td>18.70</td><td>0</td></tr>\n",
       "\t<tr><th scope=row>4</th><td>4</td><td>NS</td><td>NS_4</td><td>W </td><td>NH</td><td>F</td><td>26</td><td>23.00</td><td>0</td></tr>\n",
       "\t<tr><th scope=row>5</th><td>5</td><td>NS</td><td>NS_5</td><td>As</td><td>NH</td><td>F</td><td>25</td><td>24.70</td><td>0</td></tr>\n",
       "\t<tr><th scope=row>6</th><td>6</td><td>NS</td><td>NS_6</td><td>AA</td><td>NH</td><td>F</td><td>42</td><td>34.60</td><td>0</td></tr>\n",
       "</tbody>\n",
       "</table>\n"
      ],
      "text/latex": [
       "A data.frame: 6 × 9\n",
       "\\begin{tabular}{r|lllllllll}\n",
       "  & SubjectNo & Group & SubjectID & Race & Ethnicity & Sex & Age & BMI & Serum\\_Cotinine\\\\\n",
       "  & <dbl> & <chr> & <chr> & <chr> & <chr> & <chr> & <dbl> & <dbl> & <dbl>\\\\\n",
       "\\hline\n",
       "\t1 & 1 & NS & NS\\_1 & W  & NH & F & 28 & 37.67 & 0\\\\\n",
       "\t2 & 2 & NS & NS\\_2 & O  & H  & F & 33 & 35.00 & 0\\\\\n",
       "\t3 & 3 & NS & NS\\_3 & W  & NH & F & 25 & 18.70 & 0\\\\\n",
       "\t4 & 4 & NS & NS\\_4 & W  & NH & F & 26 & 23.00 & 0\\\\\n",
       "\t5 & 5 & NS & NS\\_5 & As & NH & F & 25 & 24.70 & 0\\\\\n",
       "\t6 & 6 & NS & NS\\_6 & AA & NH & F & 42 & 34.60 & 0\\\\\n",
       "\\end{tabular}\n"
      ],
      "text/markdown": [
       "\n",
       "A data.frame: 6 × 9\n",
       "\n",
       "| <!--/--> | SubjectNo &lt;dbl&gt; | Group &lt;chr&gt; | SubjectID &lt;chr&gt; | Race &lt;chr&gt; | Ethnicity &lt;chr&gt; | Sex &lt;chr&gt; | Age &lt;dbl&gt; | BMI &lt;dbl&gt; | Serum_Cotinine &lt;dbl&gt; |\n",
       "|---|---|---|---|---|---|---|---|---|---|\n",
       "| 1 | 1 | NS | NS_1 | W  | NH | F | 28 | 37.67 | 0 |\n",
       "| 2 | 2 | NS | NS_2 | O  | H  | F | 33 | 35.00 | 0 |\n",
       "| 3 | 3 | NS | NS_3 | W  | NH | F | 25 | 18.70 | 0 |\n",
       "| 4 | 4 | NS | NS_4 | W  | NH | F | 26 | 23.00 | 0 |\n",
       "| 5 | 5 | NS | NS_5 | As | NH | F | 25 | 24.70 | 0 |\n",
       "| 6 | 6 | NS | NS_6 | AA | NH | F | 42 | 34.60 | 0 |\n",
       "\n"
      ],
      "text/plain": [
       "  SubjectNo Group SubjectID Race Ethnicity Sex Age BMI   Serum_Cotinine\n",
       "1 1         NS    NS_1      W    NH        F   28  37.67 0             \n",
       "2 2         NS    NS_2      O    H         F   33  35.00 0             \n",
       "3 3         NS    NS_3      W    NH        F   25  18.70 0             \n",
       "4 4         NS    NS_4      W    NH        F   26  23.00 0             \n",
       "5 5         NS    NS_5      As   NH        F   25  24.70 0             \n",
       "6 6         NS    NS_6      AA   NH        F   42  34.60 0             "
      ]
     },
     "metadata": {},
     "output_type": "display_data"
    }
   ],
   "source": [
    "# Load the data\n",
    "subject_data <- data.frame(read_excel(\"Input/ModuleData1.xlsx\"))\n",
    "\n",
    "# Creating a smaller dataframe for easier viewing\n",
    "smaller_subject_data <- subject_data[1:10,]\n",
    "\n",
    "# View the top of the dataset\n",
    "head(subject_data) "
   ]
  },
  {
   "cell_type": "markdown",
   "id": "7934bc40",
   "metadata": {},
   "source": [
    "## Training Module's Environmental Health Questions \n",
    "This training module was specifically developed to answer the following environmental health questions or tasks:\n",
    "1. Convert the variable serum cotinine concentrations from pg/mL to milliliters (g/mL).\n",
    "2. Dichomotize subjects into 2 groups with a normal BMI (less than 25) and an overweight BMI (at least 25).\n",
    "3. Question combining both or for homework?"
   ]
  },
  {
   "cell_type": "code",
   "execution_count": null,
   "id": "381b6ae1",
   "metadata": {},
   "outputs": [],
   "source": [
    "# Function"
   ]
  },
  {
   "cell_type": "code",
   "execution_count": 11,
   "id": "757ce191",
   "metadata": {},
   "outputs": [
    {
     "name": "stdout",
     "output_type": "stream",
     "text": [
      "[1] 1\n",
      "[1] 2\n",
      "[1] 3\n",
      "[1] 4\n"
     ]
    }
   ],
   "source": [
    "# Basic structure of a for loop\n",
    "for (i in 1:4){\n",
    "    print(i)\n",
    "}"
   ]
  },
  {
   "cell_type": "markdown",
   "id": "e5f5cbc3",
   "metadata": {},
   "source": [
    "In the above code block, we always start with `for` followed by a statement in parentheses. In the parentheses, we are telling R to iterate or repeat the code in curly brackets 4 times. Each time we told R to print the value of our iterator or `i`, which had a value of 1,2,3, and then 4.\n",
    "\n",
    "We can also have loops iterate through columns in a dataset. Let's use a `for` loop to print the ages of each subject."
   ]
  },
  {
   "cell_type": "code",
   "execution_count": 26,
   "id": "85d296c8",
   "metadata": {},
   "outputs": [
    {
     "name": "stdout",
     "output_type": "stream",
     "text": [
      "[1] 28\n",
      "[1] 33\n",
      "[1] 25\n",
      "[1] 26\n",
      "[1] 25\n",
      "[1] 42\n",
      "[1] 33\n",
      "[1] 21\n",
      "[1] 25\n",
      "[1] 34\n"
     ]
    }
   ],
   "source": [
    "# Finding the total number of rows or subjects in the dataset\n",
    "number_of_rows = length(smaller_subject_data$Age)\n",
    "\n",
    "# Creating a for loop to iterate from 1 to the last row\n",
    "for (i in 1:number_of_rows){\n",
    "    # Printing each subject age\n",
    "    # Need to put `[i]` to index the correct value\n",
    "    print(smaller_subject_data$Age[i])\n",
    "}"
   ]
  },
  {
   "cell_type": "markdown",
   "id": "5eb6cb37",
   "metadata": {},
   "source": [
    "Now that we've reviewed the structure of a `for` loop, we can use it to dichotomize BMI with the help of an if/else statement."
   ]
  },
  {
   "cell_type": "code",
   "execution_count": 27,
   "id": "4ae941b8",
   "metadata": {},
   "outputs": [
    {
     "data": {
      "text/html": [
       "<table class=\"dataframe\">\n",
       "<caption>A data.frame: 10 × 10</caption>\n",
       "<thead>\n",
       "\t<tr><th></th><th scope=col>SubjectNo</th><th scope=col>Group</th><th scope=col>SubjectID</th><th scope=col>Race</th><th scope=col>Ethnicity</th><th scope=col>Sex</th><th scope=col>Age</th><th scope=col>BMI</th><th scope=col>Serum_Cotinine</th><th scope=col>Dichotomized_BMI</th></tr>\n",
       "\t<tr><th></th><th scope=col>&lt;dbl&gt;</th><th scope=col>&lt;chr&gt;</th><th scope=col>&lt;chr&gt;</th><th scope=col>&lt;chr&gt;</th><th scope=col>&lt;chr&gt;</th><th scope=col>&lt;chr&gt;</th><th scope=col>&lt;dbl&gt;</th><th scope=col>&lt;dbl&gt;</th><th scope=col>&lt;dbl&gt;</th><th scope=col>&lt;chr&gt;</th></tr>\n",
       "</thead>\n",
       "<tbody>\n",
       "\t<tr><th scope=row>1</th><td> 1</td><td>NS</td><td>NS_1 </td><td>W </td><td>NH</td><td>F</td><td>28</td><td>37.67</td><td>0</td><td>Overweight</td></tr>\n",
       "\t<tr><th scope=row>2</th><td> 2</td><td>NS</td><td>NS_2 </td><td>O </td><td>H </td><td>F</td><td>33</td><td>35.00</td><td>0</td><td>Overweight</td></tr>\n",
       "\t<tr><th scope=row>3</th><td> 3</td><td>NS</td><td>NS_3 </td><td>W </td><td>NH</td><td>F</td><td>25</td><td>18.70</td><td>0</td><td>Normal    </td></tr>\n",
       "\t<tr><th scope=row>4</th><td> 4</td><td>NS</td><td>NS_4 </td><td>W </td><td>NH</td><td>F</td><td>26</td><td>23.00</td><td>0</td><td>Normal    </td></tr>\n",
       "\t<tr><th scope=row>5</th><td> 5</td><td>NS</td><td>NS_5 </td><td>As</td><td>NH</td><td>F</td><td>25</td><td>24.70</td><td>0</td><td>Normal    </td></tr>\n",
       "\t<tr><th scope=row>6</th><td> 6</td><td>NS</td><td>NS_6 </td><td>AA</td><td>NH</td><td>F</td><td>42</td><td>34.60</td><td>0</td><td>Overweight</td></tr>\n",
       "\t<tr><th scope=row>7</th><td> 7</td><td>NS</td><td>NS_7 </td><td>AA</td><td>NH</td><td>F</td><td>33</td><td>33.50</td><td>0</td><td>Overweight</td></tr>\n",
       "\t<tr><th scope=row>8</th><td> 8</td><td>NS</td><td>NS_8 </td><td>W </td><td>H </td><td>M</td><td>21</td><td>24.20</td><td>0</td><td>Normal    </td></tr>\n",
       "\t<tr><th scope=row>9</th><td> 9</td><td>NS</td><td>NS_9 </td><td>W </td><td>NH</td><td>M</td><td>25</td><td>23.40</td><td>0</td><td>Normal    </td></tr>\n",
       "\t<tr><th scope=row>10</th><td>10</td><td>NS</td><td>NS_10</td><td>W </td><td>NH</td><td>M</td><td>34</td><td>19.80</td><td>0</td><td>Normal    </td></tr>\n",
       "</tbody>\n",
       "</table>\n"
      ],
      "text/latex": [
       "A data.frame: 10 × 10\n",
       "\\begin{tabular}{r|llllllllll}\n",
       "  & SubjectNo & Group & SubjectID & Race & Ethnicity & Sex & Age & BMI & Serum\\_Cotinine & Dichotomized\\_BMI\\\\\n",
       "  & <dbl> & <chr> & <chr> & <chr> & <chr> & <chr> & <dbl> & <dbl> & <dbl> & <chr>\\\\\n",
       "\\hline\n",
       "\t1 &  1 & NS & NS\\_1  & W  & NH & F & 28 & 37.67 & 0 & Overweight\\\\\n",
       "\t2 &  2 & NS & NS\\_2  & O  & H  & F & 33 & 35.00 & 0 & Overweight\\\\\n",
       "\t3 &  3 & NS & NS\\_3  & W  & NH & F & 25 & 18.70 & 0 & Normal    \\\\\n",
       "\t4 &  4 & NS & NS\\_4  & W  & NH & F & 26 & 23.00 & 0 & Normal    \\\\\n",
       "\t5 &  5 & NS & NS\\_5  & As & NH & F & 25 & 24.70 & 0 & Normal    \\\\\n",
       "\t6 &  6 & NS & NS\\_6  & AA & NH & F & 42 & 34.60 & 0 & Overweight\\\\\n",
       "\t7 &  7 & NS & NS\\_7  & AA & NH & F & 33 & 33.50 & 0 & Overweight\\\\\n",
       "\t8 &  8 & NS & NS\\_8  & W  & H  & M & 21 & 24.20 & 0 & Normal    \\\\\n",
       "\t9 &  9 & NS & NS\\_9  & W  & NH & M & 25 & 23.40 & 0 & Normal    \\\\\n",
       "\t10 & 10 & NS & NS\\_10 & W  & NH & M & 34 & 19.80 & 0 & Normal    \\\\\n",
       "\\end{tabular}\n"
      ],
      "text/markdown": [
       "\n",
       "A data.frame: 10 × 10\n",
       "\n",
       "| <!--/--> | SubjectNo &lt;dbl&gt; | Group &lt;chr&gt; | SubjectID &lt;chr&gt; | Race &lt;chr&gt; | Ethnicity &lt;chr&gt; | Sex &lt;chr&gt; | Age &lt;dbl&gt; | BMI &lt;dbl&gt; | Serum_Cotinine &lt;dbl&gt; | Dichotomized_BMI &lt;chr&gt; |\n",
       "|---|---|---|---|---|---|---|---|---|---|---|\n",
       "| 1 |  1 | NS | NS_1  | W  | NH | F | 28 | 37.67 | 0 | Overweight |\n",
       "| 2 |  2 | NS | NS_2  | O  | H  | F | 33 | 35.00 | 0 | Overweight |\n",
       "| 3 |  3 | NS | NS_3  | W  | NH | F | 25 | 18.70 | 0 | Normal     |\n",
       "| 4 |  4 | NS | NS_4  | W  | NH | F | 26 | 23.00 | 0 | Normal     |\n",
       "| 5 |  5 | NS | NS_5  | As | NH | F | 25 | 24.70 | 0 | Normal     |\n",
       "| 6 |  6 | NS | NS_6  | AA | NH | F | 42 | 34.60 | 0 | Overweight |\n",
       "| 7 |  7 | NS | NS_7  | AA | NH | F | 33 | 33.50 | 0 | Overweight |\n",
       "| 8 |  8 | NS | NS_8  | W  | H  | M | 21 | 24.20 | 0 | Normal     |\n",
       "| 9 |  9 | NS | NS_9  | W  | NH | M | 25 | 23.40 | 0 | Normal     |\n",
       "| 10 | 10 | NS | NS_10 | W  | NH | M | 34 | 19.80 | 0 | Normal     |\n",
       "\n"
      ],
      "text/plain": [
       "   SubjectNo Group SubjectID Race Ethnicity Sex Age BMI   Serum_Cotinine\n",
       "1   1        NS    NS_1      W    NH        F   28  37.67 0             \n",
       "2   2        NS    NS_2      O    H         F   33  35.00 0             \n",
       "3   3        NS    NS_3      W    NH        F   25  18.70 0             \n",
       "4   4        NS    NS_4      W    NH        F   26  23.00 0             \n",
       "5   5        NS    NS_5      As   NH        F   25  24.70 0             \n",
       "6   6        NS    NS_6      AA   NH        F   42  34.60 0             \n",
       "7   7        NS    NS_7      AA   NH        F   33  33.50 0             \n",
       "8   8        NS    NS_8      W    H         M   21  24.20 0             \n",
       "9   9        NS    NS_9      W    NH        M   25  23.40 0             \n",
       "10 10        NS    NS_10     W    NH        M   34  19.80 0             \n",
       "   Dichotomized_BMI\n",
       "1  Overweight      \n",
       "2  Overweight      \n",
       "3  Normal          \n",
       "4  Normal          \n",
       "5  Normal          \n",
       "6  Overweight      \n",
       "7  Overweight      \n",
       "8  Normal          \n",
       "9  Normal          \n",
       "10 Normal          "
      ]
     },
     "metadata": {},
     "output_type": "display_data"
    }
   ],
   "source": [
    "for (i in 1:number_of_rows){\n",
    "    \n",
    "    # if BMI is < 25 \n",
    "    if (smaller_subject_data$BMI[i] < 25){\n",
    "        # then classify the subject as having a normal BMI\n",
    "        smaller_subject_data$Dichotomized_BMI[i] = \"Normal\"\n",
    "        \n",
    "    # if the BMI is > 25\n",
    "    } else {\n",
    "        # then classify the subject as having an overweight BMI\n",
    "        smaller_subject_data$Dichotomized_BMI[i] = \"Overweight\"\n",
    "    }\n",
    "}\n",
    "\n",
    "# Viewing data\n",
    "smaller_subject_data"
   ]
  },
  {
   "cell_type": "markdown",
   "id": "19a8c36d",
   "metadata": {},
   "source": [
    "## Additional Resources\n",
    "- https://intro2r.com/prog_r.html"
   ]
  },
  {
   "cell_type": "code",
   "execution_count": null,
   "id": "3e1a3ae5",
   "metadata": {},
   "outputs": [],
   "source": []
  }
 ],
 "metadata": {
  "kernelspec": {
   "display_name": "R",
   "language": "R",
   "name": "ir"
  },
  "language_info": {
   "codemirror_mode": "r",
   "file_extension": ".r",
   "mimetype": "text/x-r-source",
   "name": "R",
   "pygments_lexer": "r",
   "version": "4.1.3"
  }
 },
 "nbformat": 4,
 "nbformat_minor": 5
}
