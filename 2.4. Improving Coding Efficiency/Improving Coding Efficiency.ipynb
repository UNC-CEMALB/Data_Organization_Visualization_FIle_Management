{
 "cells": [
  {
   "cell_type": "markdown",
   "id": "48480dfe",
   "metadata": {},
   "source": [
    "# Improving Coding Efficiency\n",
    "\n",
    "This training module was developed by Alexis Payton, Dr. Kyle R. Roell, and Dr. Julia E. Rager\n",
    "\n",
    "Spring 2023\n",
    "\n",
    "## Introduction to Training Module\n",
    "\n",
    "Coding efficiency involves performing a task in as few lines as possible and can...\n",
    "- eliminate redundancies\n",
    "- reduce the number of typos\n",
    "- help other coders understand script \n",
    "\n",
    "In this module, we'll explore how functions and loops are often used to make code more succint. As a brief overview, a **loop** is employed when we want to perform a repetitive task, while a **function** contains a block of code organized together to perform one specific task.\n",
    "\n",
    "Let's start with loops first. There are three main types of loops in R: `for`, `while`, and `repeat`. However, we're only going to discuss the `for` loop in this module. For more information on the others and loops in general, click [here](https://intro2r.com/loops.html).\n",
    "\n",
    "A `for` loop is used when we want to specify the number of times we'd like R to repeat a task. We'll load in our data and then explore how a for loop works. \n",
    "\n",
    "\n",
    "### Installing required R packages\n",
    "If you already have these packages installed, you can skip this step, or you can run the below code which checks installation status for you"
   ]
  },
  {
   "cell_type": "code",
   "execution_count": 1,
   "id": "b2fa4f76",
   "metadata": {},
   "outputs": [
    {
     "name": "stderr",
     "output_type": "stream",
     "text": [
      "Loading required namespace: tidyverse\n",
      "\n"
     ]
    }
   ],
   "source": [
    "if (!requireNamespace(\"tidyverse\"))\n",
    "  install.packages(\"tidyverse\");"
   ]
  },
  {
   "cell_type": "markdown",
   "id": "7800f94a",
   "metadata": {},
   "source": [
    "### Loading required R packages"
   ]
  },
  {
   "cell_type": "code",
   "execution_count": 2,
   "id": "78690959",
   "metadata": {},
   "outputs": [
    {
     "name": "stderr",
     "output_type": "stream",
     "text": [
      "── \u001b[1mAttaching packages\u001b[22m ─────────────────────────────────────── tidyverse 1.3.2 ──\n",
      "\u001b[32m✔\u001b[39m \u001b[34mggplot2\u001b[39m 3.4.0      \u001b[32m✔\u001b[39m \u001b[34mpurrr  \u001b[39m 0.3.4 \n",
      "\u001b[32m✔\u001b[39m \u001b[34mtibble \u001b[39m 3.1.8      \u001b[32m✔\u001b[39m \u001b[34mdplyr  \u001b[39m 1.0.10\n",
      "\u001b[32m✔\u001b[39m \u001b[34mtidyr  \u001b[39m 1.2.1      \u001b[32m✔\u001b[39m \u001b[34mstringr\u001b[39m 1.4.1 \n",
      "\u001b[32m✔\u001b[39m \u001b[34mreadr  \u001b[39m 2.1.2      \u001b[32m✔\u001b[39m \u001b[34mforcats\u001b[39m 0.5.2 \n",
      "── \u001b[1mConflicts\u001b[22m ────────────────────────────────────────── tidyverse_conflicts() ──\n",
      "\u001b[31m✖\u001b[39m \u001b[34mdplyr\u001b[39m::\u001b[32mfilter()\u001b[39m masks \u001b[34mstats\u001b[39m::filter()\n",
      "\u001b[31m✖\u001b[39m \u001b[34mdplyr\u001b[39m::\u001b[32mlag()\u001b[39m    masks \u001b[34mstats\u001b[39m::lag()\n"
     ]
    }
   ],
   "source": [
    "library(tidyverse)"
   ]
  },
  {
   "cell_type": "markdown",
   "id": "ef87eaac",
   "metadata": {},
   "source": [
    "### Set your working directory"
   ]
  },
  {
   "cell_type": "code",
   "execution_count": null,
   "id": "bc2eac9d",
   "metadata": {},
   "outputs": [],
   "source": [
    "setwd(\"/filepath to where your input files are\")"
   ]
  },
  {
   "cell_type": "markdown",
   "id": "702b6e91",
   "metadata": {},
   "source": [
    "### Importing example dataset\n",
    "The first example dataset contains subject demographic data and the second dataset contains corresponding chemical data. Familiarize yourself with these data used previously in [Module 1.2] (link to module). "
   ]
  },
  {
   "cell_type": "code",
   "execution_count": 3,
   "id": "89fc7997",
   "metadata": {},
   "outputs": [
    {
     "data": {
      "text/html": [
       "<table class=\"dataframe\">\n",
       "<caption>A data.frame: 6 × 6</caption>\n",
       "<thead>\n",
       "\t<tr><th></th><th scope=col>ID</th><th scope=col>BMI</th><th scope=col>MAge</th><th scope=col>MEdu</th><th scope=col>BW</th><th scope=col>GA</th></tr>\n",
       "\t<tr><th></th><th scope=col>&lt;int&gt;</th><th scope=col>&lt;dbl&gt;</th><th scope=col>&lt;dbl&gt;</th><th scope=col>&lt;int&gt;</th><th scope=col>&lt;dbl&gt;</th><th scope=col>&lt;int&gt;</th></tr>\n",
       "</thead>\n",
       "<tbody>\n",
       "\t<tr><th scope=row>1</th><td>1</td><td>27.7</td><td>22.99928</td><td>3</td><td>3180.058</td><td>34</td></tr>\n",
       "\t<tr><th scope=row>2</th><td>2</td><td>26.8</td><td>30.05142</td><td>3</td><td>3210.823</td><td>43</td></tr>\n",
       "\t<tr><th scope=row>3</th><td>3</td><td>33.2</td><td>28.04660</td><td>3</td><td>3311.551</td><td>40</td></tr>\n",
       "\t<tr><th scope=row>4</th><td>4</td><td>30.1</td><td>34.81796</td><td>3</td><td>3266.844</td><td>32</td></tr>\n",
       "\t<tr><th scope=row>5</th><td>5</td><td>37.4</td><td>42.68440</td><td>3</td><td>3664.088</td><td>35</td></tr>\n",
       "\t<tr><th scope=row>6</th><td>6</td><td>33.3</td><td>24.94960</td><td>3</td><td>3328.988</td><td>40</td></tr>\n",
       "</tbody>\n",
       "</table>\n"
      ],
      "text/latex": [
       "A data.frame: 6 × 6\n",
       "\\begin{tabular}{r|llllll}\n",
       "  & ID & BMI & MAge & MEdu & BW & GA\\\\\n",
       "  & <int> & <dbl> & <dbl> & <int> & <dbl> & <int>\\\\\n",
       "\\hline\n",
       "\t1 & 1 & 27.7 & 22.99928 & 3 & 3180.058 & 34\\\\\n",
       "\t2 & 2 & 26.8 & 30.05142 & 3 & 3210.823 & 43\\\\\n",
       "\t3 & 3 & 33.2 & 28.04660 & 3 & 3311.551 & 40\\\\\n",
       "\t4 & 4 & 30.1 & 34.81796 & 3 & 3266.844 & 32\\\\\n",
       "\t5 & 5 & 37.4 & 42.68440 & 3 & 3664.088 & 35\\\\\n",
       "\t6 & 6 & 33.3 & 24.94960 & 3 & 3328.988 & 40\\\\\n",
       "\\end{tabular}\n"
      ],
      "text/markdown": [
       "\n",
       "A data.frame: 6 × 6\n",
       "\n",
       "| <!--/--> | ID &lt;int&gt; | BMI &lt;dbl&gt; | MAge &lt;dbl&gt; | MEdu &lt;int&gt; | BW &lt;dbl&gt; | GA &lt;int&gt; |\n",
       "|---|---|---|---|---|---|---|\n",
       "| 1 | 1 | 27.7 | 22.99928 | 3 | 3180.058 | 34 |\n",
       "| 2 | 2 | 26.8 | 30.05142 | 3 | 3210.823 | 43 |\n",
       "| 3 | 3 | 33.2 | 28.04660 | 3 | 3311.551 | 40 |\n",
       "| 4 | 4 | 30.1 | 34.81796 | 3 | 3266.844 | 32 |\n",
       "| 5 | 5 | 37.4 | 42.68440 | 3 | 3664.088 | 35 |\n",
       "| 6 | 6 | 33.3 | 24.94960 | 3 | 3328.988 | 40 |\n",
       "\n"
      ],
      "text/plain": [
       "  ID BMI  MAge     MEdu BW       GA\n",
       "1 1  27.7 22.99928 3    3180.058 34\n",
       "2 2  26.8 30.05142 3    3210.823 43\n",
       "3 3  33.2 28.04660 3    3311.551 40\n",
       "4 4  30.1 34.81796 3    3266.844 32\n",
       "5 5  37.4 42.68440 3    3664.088 35\n",
       "6 6  33.3 24.94960 3    3328.988 40"
      ]
     },
     "metadata": {},
     "output_type": "display_data"
    }
   ],
   "source": [
    "# Load the data\n",
    "demographic_data <- read.csv(\"Module2_4/Module2_4_DemographicData.csv\")\n",
    "chemical_data <- read.csv(\"Module2_4/Module2_4_ChemicalData.csv\")\n",
    "\n",
    "# Creating a smaller dataframe for easier viewing\n",
    "smaller_demographic_data <- demographic_data[1:10,]\n",
    "\n",
    "# View the top of the dataset\n",
    "head(demographic_data) "
   ]
  },
  {
   "cell_type": "markdown",
   "id": "7934bc40",
   "metadata": {},
   "source": [
    "We'll be using a dataset that has subject demographic data. Often times continous variables, like BMI, are dichotomized to increase statistical power in analyses. \n",
    "\n",
    "## Training Module's Environmental Health Question\n",
    "This training module was specifically developed to answer the following environmental health question:\n",
    "1. Are there statistically significant differences in gestational age between normal weight (BMI < 25) and overweight (BMI > 25) subjects?\n",
    "\n",
    "Notice in our dataframe that BMI is a continuous or numeric variable, however the question requires us to dichotomize BMI. This can be tackled with the help of a loop, but before we do that let's go over how loops work."
   ]
  },
  {
   "cell_type": "code",
   "execution_count": 4,
   "id": "757ce191",
   "metadata": {},
   "outputs": [
    {
     "name": "stdout",
     "output_type": "stream",
     "text": [
      "[1] 1\n",
      "[1] 2\n",
      "[1] 3\n",
      "[1] 4\n"
     ]
    }
   ],
   "source": [
    "# Basic structure of a for loop\n",
    "for (i in 1:4){\n",
    "    print(i)\n",
    "}"
   ]
  },
  {
   "cell_type": "markdown",
   "id": "e5f5cbc3",
   "metadata": {},
   "source": [
    "In the above code block, we always start with `for` followed by a statement in parentheses. In the parentheses, we are telling R to iterate or repeat the code in curly brackets 4 times. Each time we told R to print the value of our iterator or `i`, which had a value of 1,2,3, and then 4.\n",
    "\n",
    "We can also have loops iterate through columns in a dataset. Let's use a `for` loop to print the ages of each subject."
   ]
  },
  {
   "cell_type": "code",
   "execution_count": 5,
   "id": "85d296c8",
   "metadata": {},
   "outputs": [
    {
     "name": "stdout",
     "output_type": "stream",
     "text": [
      "[1] 22.99928\n",
      "[1] 30.05142\n",
      "[1] 28.0466\n",
      "[1] 34.81796\n",
      "[1] 42.6844\n",
      "[1] 24.9496\n",
      "[1] 29.54798\n",
      "[1] 24.94954\n",
      "[1] 33.58589\n",
      "[1] 39.29018\n"
     ]
    }
   ],
   "source": [
    "# Finding the total number of rows or subjects in the dataset\n",
    "number_of_rows_smaller_df <- length(smaller_demographic_data$MAge)\n",
    "\n",
    "# Creating a for loop to iterate from 1 to the last row\n",
    "for (i in 1:number_of_rows_smaller_df){\n",
    "    # Printing each subject age\n",
    "    # Need to put `[i]` to index the correct value\n",
    "    print(smaller_demographic_data$MAge[i])\n",
    "}"
   ]
  },
  {
   "cell_type": "markdown",
   "id": "5eb6cb37",
   "metadata": {},
   "source": [
    "Now that we've reviewed the structure of a `for` loop, we can use it to dichotomize BMI with the help of an if/else statement."
   ]
  },
  {
   "cell_type": "code",
   "execution_count": 6,
   "id": "4ae941b8",
   "metadata": {},
   "outputs": [
    {
     "data": {
      "text/html": [
       "<table class=\"dataframe\">\n",
       "<caption>A data.frame: 6 × 7</caption>\n",
       "<thead>\n",
       "\t<tr><th></th><th scope=col>ID</th><th scope=col>BMI</th><th scope=col>MAge</th><th scope=col>MEdu</th><th scope=col>BW</th><th scope=col>GA</th><th scope=col>Dichotomized_BMI</th></tr>\n",
       "\t<tr><th></th><th scope=col>&lt;int&gt;</th><th scope=col>&lt;dbl&gt;</th><th scope=col>&lt;dbl&gt;</th><th scope=col>&lt;int&gt;</th><th scope=col>&lt;dbl&gt;</th><th scope=col>&lt;int&gt;</th><th scope=col>&lt;chr&gt;</th></tr>\n",
       "</thead>\n",
       "<tbody>\n",
       "\t<tr><th scope=row>1</th><td>1</td><td>27.7</td><td>22.99928</td><td>3</td><td>3180.058</td><td>34</td><td>Overweight</td></tr>\n",
       "\t<tr><th scope=row>2</th><td>2</td><td>26.8</td><td>30.05142</td><td>3</td><td>3210.823</td><td>43</td><td>Overweight</td></tr>\n",
       "\t<tr><th scope=row>3</th><td>3</td><td>33.2</td><td>28.04660</td><td>3</td><td>3311.551</td><td>40</td><td>Overweight</td></tr>\n",
       "\t<tr><th scope=row>4</th><td>4</td><td>30.1</td><td>34.81796</td><td>3</td><td>3266.844</td><td>32</td><td>Overweight</td></tr>\n",
       "\t<tr><th scope=row>5</th><td>5</td><td>37.4</td><td>42.68440</td><td>3</td><td>3664.088</td><td>35</td><td>Overweight</td></tr>\n",
       "\t<tr><th scope=row>6</th><td>6</td><td>33.3</td><td>24.94960</td><td>3</td><td>3328.988</td><td>40</td><td>Overweight</td></tr>\n",
       "</tbody>\n",
       "</table>\n"
      ],
      "text/latex": [
       "A data.frame: 6 × 7\n",
       "\\begin{tabular}{r|lllllll}\n",
       "  & ID & BMI & MAge & MEdu & BW & GA & Dichotomized\\_BMI\\\\\n",
       "  & <int> & <dbl> & <dbl> & <int> & <dbl> & <int> & <chr>\\\\\n",
       "\\hline\n",
       "\t1 & 1 & 27.7 & 22.99928 & 3 & 3180.058 & 34 & Overweight\\\\\n",
       "\t2 & 2 & 26.8 & 30.05142 & 3 & 3210.823 & 43 & Overweight\\\\\n",
       "\t3 & 3 & 33.2 & 28.04660 & 3 & 3311.551 & 40 & Overweight\\\\\n",
       "\t4 & 4 & 30.1 & 34.81796 & 3 & 3266.844 & 32 & Overweight\\\\\n",
       "\t5 & 5 & 37.4 & 42.68440 & 3 & 3664.088 & 35 & Overweight\\\\\n",
       "\t6 & 6 & 33.3 & 24.94960 & 3 & 3328.988 & 40 & Overweight\\\\\n",
       "\\end{tabular}\n"
      ],
      "text/markdown": [
       "\n",
       "A data.frame: 6 × 7\n",
       "\n",
       "| <!--/--> | ID &lt;int&gt; | BMI &lt;dbl&gt; | MAge &lt;dbl&gt; | MEdu &lt;int&gt; | BW &lt;dbl&gt; | GA &lt;int&gt; | Dichotomized_BMI &lt;chr&gt; |\n",
       "|---|---|---|---|---|---|---|---|\n",
       "| 1 | 1 | 27.7 | 22.99928 | 3 | 3180.058 | 34 | Overweight |\n",
       "| 2 | 2 | 26.8 | 30.05142 | 3 | 3210.823 | 43 | Overweight |\n",
       "| 3 | 3 | 33.2 | 28.04660 | 3 | 3311.551 | 40 | Overweight |\n",
       "| 4 | 4 | 30.1 | 34.81796 | 3 | 3266.844 | 32 | Overweight |\n",
       "| 5 | 5 | 37.4 | 42.68440 | 3 | 3664.088 | 35 | Overweight |\n",
       "| 6 | 6 | 33.3 | 24.94960 | 3 | 3328.988 | 40 | Overweight |\n",
       "\n"
      ],
      "text/plain": [
       "  ID BMI  MAge     MEdu BW       GA Dichotomized_BMI\n",
       "1 1  27.7 22.99928 3    3180.058 34 Overweight      \n",
       "2 2  26.8 30.05142 3    3210.823 43 Overweight      \n",
       "3 3  33.2 28.04660 3    3311.551 40 Overweight      \n",
       "4 4  30.1 34.81796 3    3266.844 32 Overweight      \n",
       "5 5  37.4 42.68440 3    3664.088 35 Overweight      \n",
       "6 6  33.3 24.94960 3    3328.988 40 Overweight      "
      ]
     },
     "metadata": {},
     "output_type": "display_data"
    }
   ],
   "source": [
    "# Finding the total number of rows or subjects in the dataset\n",
    "number_of_rows <- length(demographic_data$BMI)\n",
    "\n",
    "# Creating a for loop to iterate from 1 to the last row\n",
    "for (i in 1:number_of_rows){\n",
    "    \n",
    "    # if BMI is < 25 \n",
    "    if (demographic_data$BMI[i] < 25){\n",
    "        # then classify the subject as having a normal BMI\n",
    "        demographic_data$Dichotomized_BMI[i] = \"Normal\"\n",
    "        \n",
    "    # if the BMI is > 25\n",
    "    } else {\n",
    "        # then classify the subject as having an overweight BMI\n",
    "        demographic_data$Dichotomized_BMI[i] = \"Overweight\"\n",
    "    }\n",
    "}\n",
    "\n",
    "# Viewing data\n",
    "head(demographic_data)"
   ]
  },
  {
   "cell_type": "markdown",
   "id": "6b3865b5",
   "metadata": {},
   "source": [
    "We can see that we now have created a new column entitled `Dichotomized_BMI` that we can use to perform a statistical test to assess if there are differences between serum cotinine levels of normal and overweight subjects. Typically t tests are used to do this, however if the subject number (n) < 50, the nonparametric version, Wilcoxon rank sums, should be used."
   ]
  },
  {
   "cell_type": "code",
   "execution_count": 7,
   "id": "9b55a46e",
   "metadata": {},
   "outputs": [
    {
     "data": {
      "text/html": [
       "200"
      ],
      "text/latex": [
       "200"
      ],
      "text/markdown": [
       "200"
      ],
      "text/plain": [
       "[1] 200"
      ]
     },
     "metadata": {},
     "output_type": "display_data"
    }
   ],
   "source": [
    "# Finding the number of subjects\n",
    "length(unique(demographic_data$ID))"
   ]
  },
  {
   "cell_type": "markdown",
   "id": "ab5cc117",
   "metadata": {},
   "source": [
    "The dataset contains 200 subjects, so we'll perform t tests. Before creating a function to perform t tests. Let's familiarize ourselves with how to create a function in R."
   ]
  },
  {
   "cell_type": "code",
   "execution_count": null,
   "id": "4e0cec97",
   "metadata": {},
   "outputs": [],
   "source": [
    "# Basic structure of a function\n",
    "function_name <- function(parameter_1, parameter_2...){\n",
    "    # Function body (where the code goes)\n",
    "    return()\n",
    "}"
   ]
  },
  {
   "cell_type": "markdown",
   "id": "7937e9e6",
   "metadata": {},
   "source": [
    "A function requires you to name it as we did with `function_name`. In parentheses, the function requires you to specify the arguments or parameters. Parameters (ie. `parameter_1`) act as placeholders in the body of the function. This allows us to change the values of the parameters each time a function is called, while the majority of the code remains the same. Lastly, we have a `return` statement, which specifies what object (ie. vector, dataframe, etc.) we want to retrieve from a function. Although a function can display the last expression from the function body in the absence of a `return` statement, it's a good habit to get into to include it as the last expression. This is very important, because a function is only one object is able to retrieved from a function.\n",
    "\n",
    "We'll start with a simple function. Let's say we want to convert temperatures from Fahrenheit to Celcius."
   ]
  },
  {
   "cell_type": "code",
   "execution_count": 8,
   "id": "6f77f418",
   "metadata": {},
   "outputs": [],
   "source": [
    "# Always clarify the purpose of the function, it's parameters, and output at the beginning\n",
    "fahrenheit_to_celsius <- function(fahrenheit_temperature){\n",
    "    # Converting temperatures in Fahrenheit to Celcius\n",
    "\n",
    "    # :parameters: temperature in Fahrenheit\n",
    "    # :output: temperature in Celcius\n",
    "    \n",
    "    celcius_temperature <- (fahrenheit_temperature - 32) * (5/9)\n",
    "    \n",
    "    return(celcius_temperature)\n",
    "}"
   ]
  },
  {
   "cell_type": "markdown",
   "id": "f99871bc",
   "metadata": {},
   "source": [
    "Notice that the above code block was run, but there isn't an output. That's because we haven't called the function. Let's start by converting 41 degrees Fahrenheit to Celcius by providing the function a value."
   ]
  },
  {
   "cell_type": "code",
   "execution_count": 9,
   "id": "105ee9cf",
   "metadata": {},
   "outputs": [
    {
     "data": {
      "text/html": [
       "5"
      ],
      "text/latex": [
       "5"
      ],
      "text/markdown": [
       "5"
      ],
      "text/plain": [
       "[1] 5"
      ]
     },
     "metadata": {},
     "output_type": "display_data"
    }
   ],
   "source": [
    "# Calling the function: here 41 is the `fahrenheit_temperature` in the function\n",
    "fahrenheit_to_celsius(41)"
   ]
  },
  {
   "cell_type": "markdown",
   "id": "646d9ff8",
   "metadata": {},
   "source": [
    "So 41 degrees Fahrenheit is equivalent to 5 degrees Celcius. We can also have the function convert a vector of values."
   ]
  },
  {
   "cell_type": "code",
   "execution_count": 10,
   "id": "6671760b",
   "metadata": {},
   "outputs": [
    {
     "data": {
      "text/html": [
       "<style>\n",
       ".list-inline {list-style: none; margin:0; padding: 0}\n",
       ".list-inline>li {display: inline-block}\n",
       ".list-inline>li:not(:last-child)::after {content: \"\\00b7\"; padding: 0 .5ex}\n",
       "</style>\n",
       "<ol class=list-inline><li>27.2222222222222</li><li>23.3333333333333</li><li>-5</li><li>18.3333333333333</li></ol>\n"
      ],
      "text/latex": [
       "\\begin{enumerate*}\n",
       "\\item 27.2222222222222\n",
       "\\item 23.3333333333333\n",
       "\\item -5\n",
       "\\item 18.3333333333333\n",
       "\\end{enumerate*}\n"
      ],
      "text/markdown": [
       "1. 27.2222222222222\n",
       "2. 23.3333333333333\n",
       "3. -5\n",
       "4. 18.3333333333333\n",
       "\n",
       "\n"
      ],
      "text/plain": [
       "[1] 27.22222 23.33333 -5.00000 18.33333"
      ]
     },
     "metadata": {},
     "output_type": "display_data"
    }
   ],
   "source": [
    "vector_of_temperatures <- c(81,74,23,65)\n",
    "\n",
    "# Calling the function\n",
    "fahrenheit_to_celsius(vector_of_temperatures)"
   ]
  },
  {
   "cell_type": "markdown",
   "id": "c3950c18",
   "metadata": {},
   "source": [
    "Before getting back to answer our environmental health related question, let's look at one more example of a function. This time we'll create a function that can calculate can calculate the circumference of a circle based on its radius in inches."
   ]
  },
  {
   "cell_type": "code",
   "execution_count": 11,
   "id": "178126c3",
   "metadata": {},
   "outputs": [
    {
     "data": {
      "text/html": [
       "18.8495559215388"
      ],
      "text/latex": [
       "18.8495559215388"
      ],
      "text/markdown": [
       "18.8495559215388"
      ],
      "text/plain": [
       "[1] 18.84956"
      ]
     },
     "metadata": {},
     "output_type": "display_data"
    }
   ],
   "source": [
    "circle_circumference <- function(radius){\n",
    "    # Calculating a circle's circumference based on the radius inches\n",
    "\n",
    "    # :parameters: radius\n",
    "    # :output: circumference and radius\n",
    "    \n",
    "    # Calculating diameter first\n",
    "    diameter <- 2 * radius\n",
    "    \n",
    "    # Calculating circumference\n",
    "    circumference <- pi * diameter\n",
    "    \n",
    "    return(circumference)\n",
    "}\n",
    "\n",
    "# Calling function\n",
    "circle_circumference(3)"
   ]
  },
  {
   "cell_type": "markdown",
   "id": "cf569c10",
   "metadata": {},
   "source": [
    "So, if a circle had a radius of 3 inches it's circumference would be ~19 inches. What if we were interested in seeing the diameter to double check our code?"
   ]
  },
  {
   "cell_type": "code",
   "execution_count": 12,
   "id": "a6df4c95",
   "metadata": {},
   "outputs": [
    {
     "ename": "ERROR",
     "evalue": "Error in eval(expr, envir, enclos): object 'diameter' not found\n",
     "output_type": "error",
     "traceback": [
      "Error in eval(expr, envir, enclos): object 'diameter' not found\nTraceback:\n"
     ]
    }
   ],
   "source": [
    "diameter"
   ]
  },
  {
   "cell_type": "markdown",
   "id": "1e3b8d5c",
   "metadata": {},
   "source": [
    "R throws an error, because the variable, `diameter`, was created inside the function and the function only returned the `circumference` variable. There are two ways we can still see the `diameter` variable. \n",
    "\n",
    "1. Put print statements in the function\n",
    "2. Have the function return a different variable"
   ]
  },
  {
   "cell_type": "code",
   "execution_count": 13,
   "id": "bf748fb1",
   "metadata": {},
   "outputs": [
    {
     "name": "stdout",
     "output_type": "stream",
     "text": [
      "[1] 20\n"
     ]
    },
    {
     "data": {
      "text/html": [
       "62.8318530717959"
      ],
      "text/latex": [
       "62.8318530717959"
      ],
      "text/markdown": [
       "62.8318530717959"
      ],
      "text/plain": [
       "[1] 62.83185"
      ]
     },
     "metadata": {},
     "output_type": "display_data"
    }
   ],
   "source": [
    "# This time putting in a print statement to see the diameter variable\n",
    "circle_circumference_1 <- function(radius){\n",
    "    # Calculating a circle's circumference based on the radius inches\n",
    "\n",
    "    # :parameters: radius\n",
    "    # :output: circumference and radius\n",
    "    \n",
    "    # Calculating diameter first\n",
    "    diameter <- 2 * radius\n",
    "    # Print statement\n",
    "    print(diameter)\n",
    "    \n",
    "    # Calculating circumference\n",
    "    circumference <- pi * diameter\n",
    "    \n",
    "    return(circumference)\n",
    "}\n",
    "\n",
    "# Calling function\n",
    "circle_circumference_1(10)"
   ]
  },
  {
   "cell_type": "markdown",
   "id": "a2e008c2",
   "metadata": {},
   "source": [
    "This time we see both the diameter and the final circumference value. Let's modify the function one more time to change the return statement."
   ]
  },
  {
   "cell_type": "code",
   "execution_count": 14,
   "id": "d5fa9583",
   "metadata": {},
   "outputs": [
    {
     "data": {
      "text/html": [
       "20"
      ],
      "text/latex": [
       "20"
      ],
      "text/markdown": [
       "20"
      ],
      "text/plain": [
       "[1] 20"
      ]
     },
     "metadata": {},
     "output_type": "display_data"
    }
   ],
   "source": [
    "# Now changing the return statement\n",
    "circle_circumference_2 <- function(radius){\n",
    "    # Calculating a circle's circumference based on the radius inches\n",
    "\n",
    "    # :parameters: radius\n",
    "    # :output: circumference and radius\n",
    "    \n",
    "    # Calculating diameter first\n",
    "    diameter <- 2 * radius\n",
    "    \n",
    "    # Calculating circumference\n",
    "    circumference <- pi * diameter\n",
    "    \n",
    "    return(diameter)\n",
    "}\n",
    "\n",
    "# Calling function\n",
    "circle_circumference_2(10)"
   ]
  },
  {
   "cell_type": "markdown",
   "id": "c8a50e24",
   "metadata": {},
   "source": [
    "In the function above, we only see the diameter since we asked function to return the `diameter` variable even though circumference was the last expression computed. These last two iterations can be helpful to double check your code, especially as it becomes more complicated.\n",
    "\n",
    "Now that we understand how functions work, let's go back to creating one to run t tests between our two BMI groups."
   ]
  },
  {
   "cell_type": "code",
   "execution_count": 15,
   "id": "67b5c46a",
   "metadata": {},
   "outputs": [
    {
     "data": {
      "text/html": [
       "<table class=\"dataframe\">\n",
       "<caption>A data.frame: 1 × 3</caption>\n",
       "<thead>\n",
       "\t<tr><th></th><th scope=col>Variable</th><th scope=col>Statistic</th><th scope=col>P Value</th></tr>\n",
       "\t<tr><th></th><th scope=col>&lt;chr&gt;</th><th scope=col>&lt;chr&gt;</th><th scope=col>&lt;chr&gt;</th></tr>\n",
       "</thead>\n",
       "<tbody>\n",
       "\t<tr><th scope=row>t</th><td>Dichotomized_BMI</td><td>-1.34051941848955</td><td>0.181656992876614</td></tr>\n",
       "</tbody>\n",
       "</table>\n"
      ],
      "text/latex": [
       "A data.frame: 1 × 3\n",
       "\\begin{tabular}{r|lll}\n",
       "  & Variable & Statistic & P Value\\\\\n",
       "  & <chr> & <chr> & <chr>\\\\\n",
       "\\hline\n",
       "\tt & Dichotomized\\_BMI & -1.34051941848955 & 0.181656992876614\\\\\n",
       "\\end{tabular}\n"
      ],
      "text/markdown": [
       "\n",
       "A data.frame: 1 × 3\n",
       "\n",
       "| <!--/--> | Variable &lt;chr&gt; | Statistic &lt;chr&gt; | P Value &lt;chr&gt; |\n",
       "|---|---|---|---|\n",
       "| t | Dichotomized_BMI | -1.34051941848955 | 0.181656992876614 |\n",
       "\n"
      ],
      "text/plain": [
       "  Variable         Statistic         P Value          \n",
       "t Dichotomized_BMI -1.34051941848955 0.181656992876614"
      ]
     },
     "metadata": {},
     "output_type": "display_data"
    }
   ],
   "source": [
    "# Function\n",
    "t_test_values <- function(variable, class1, class2){\n",
    "    # \"\"\"\n",
    "    # Running t tests after creating 2 dataframes filtered based on a variable of interest that has two classes\n",
    "    # Ultimately using this test to differences in gestational age\n",
    "\n",
    "    # :param: subsetted dataframe, empty dataframe\n",
    "    # :output: a dataframe containing the variable, u stat, and p value\n",
    "\n",
    "    # \"\"\"\n",
    "\n",
    "    # class df 1\n",
    "    class_1_df <- demographic_data %>%\n",
    "        filter(UQ(sym(variable)) == class1)\n",
    "\n",
    "    # class df 2 \n",
    "    class_2_df <- demographic_data %>%\n",
    "        filter(UQ(sym(variable)) == class2)\n",
    "\n",
    "    # t test\n",
    "    t_test <- t.test(class_1_df$GA, class_2_df$GA)\n",
    "\n",
    "    # contains u stat and p value\n",
    "    values_df <- data.frame(cbind(variable, t_test$statistic, t_test$p.value))\n",
    "\n",
    "    \n",
    "    # adding col names\n",
    "    colnames(values_df) <- c(\"Variable\", \"Statistic\", \"P Value\")\n",
    "    \n",
    "    return(values_df)\n",
    "}\n",
    "\n",
    "# Calling function\n",
    "t_test_values(\"Dichotomized_BMI\", \"Normal\", \"Overweight\")"
   ]
  },
  {
   "cell_type": "markdown",
   "id": "19a8c36d",
   "metadata": {},
   "source": [
    "Since the p value > 0.05, there are not statistically significant differences in gestational age across BMI groups.\n",
    "\n",
    "## Additional Resources\n",
    "- https://intro2r.com/prog_r.html\n",
    "- https://intro2r.com/functions-in-r.html\n",
    "\n",
    "## Test your knowledge\n",
    "1. Are there statistically significant differences in gestational age between younger mothers (maternal age < 30 years old) and older mothers (maternal age > 30 years old)?\n",
    "2. Are there statistically significant differences in each drinking water chemical (ie. Arsenic levels, Cadmium levels, etc.) between younger and older mothers?\n",
    "    - **Hint 1**: Start with the dataframe below.\n",
    "    - **Hint 2**: Create a new function for obtaining the statistics and use a loop within the function."
   ]
  },
  {
   "cell_type": "code",
   "execution_count": 16,
   "id": "190a0794",
   "metadata": {},
   "outputs": [
    {
     "name": "stderr",
     "output_type": "stream",
     "text": [
      "\u001b[1m\u001b[22mJoining, by = \"ID\"\n"
     ]
    },
    {
     "data": {
      "text/html": [
       "<table class=\"dataframe\">\n",
       "<caption>A data.frame: 6 × 9</caption>\n",
       "<thead>\n",
       "\t<tr><th></th><th scope=col>ID</th><th scope=col>BMI</th><th scope=col>MAge</th><th scope=col>MEdu</th><th scope=col>BW</th><th scope=col>GA</th><th scope=col>Dichotomized_BMI</th><th scope=col>Chemical</th><th scope=col>Chemical_Concentration</th></tr>\n",
       "\t<tr><th></th><th scope=col>&lt;int&gt;</th><th scope=col>&lt;dbl&gt;</th><th scope=col>&lt;dbl&gt;</th><th scope=col>&lt;int&gt;</th><th scope=col>&lt;dbl&gt;</th><th scope=col>&lt;int&gt;</th><th scope=col>&lt;chr&gt;</th><th scope=col>&lt;chr&gt;</th><th scope=col>&lt;dbl&gt;</th></tr>\n",
       "</thead>\n",
       "<tbody>\n",
       "\t<tr><th scope=row>1</th><td>1</td><td>27.7</td><td>22.99928</td><td>3</td><td>3180.058</td><td>34</td><td>Overweight</td><td>DWAs</td><td> 6.4264644</td></tr>\n",
       "\t<tr><th scope=row>2</th><td>1</td><td>27.7</td><td>22.99928</td><td>3</td><td>3180.058</td><td>34</td><td>Overweight</td><td>DWCd</td><td> 1.2929409</td></tr>\n",
       "\t<tr><th scope=row>3</th><td>1</td><td>27.7</td><td>22.99928</td><td>3</td><td>3180.058</td><td>34</td><td>Overweight</td><td>DWCr</td><td>51.6798741</td></tr>\n",
       "\t<tr><th scope=row>4</th><td>1</td><td>27.7</td><td>22.99928</td><td>3</td><td>3180.058</td><td>34</td><td>Overweight</td><td>UAs </td><td>10.1926949</td></tr>\n",
       "\t<tr><th scope=row>5</th><td>1</td><td>27.7</td><td>22.99928</td><td>3</td><td>3180.058</td><td>34</td><td>Overweight</td><td>UCd </td><td> 0.7537104</td></tr>\n",
       "\t<tr><th scope=row>6</th><td>1</td><td>27.7</td><td>22.99928</td><td>3</td><td>3180.058</td><td>34</td><td>Overweight</td><td>UCr </td><td>42.6018701</td></tr>\n",
       "</tbody>\n",
       "</table>\n"
      ],
      "text/latex": [
       "A data.frame: 6 × 9\n",
       "\\begin{tabular}{r|lllllllll}\n",
       "  & ID & BMI & MAge & MEdu & BW & GA & Dichotomized\\_BMI & Chemical & Chemical\\_Concentration\\\\\n",
       "  & <int> & <dbl> & <dbl> & <int> & <dbl> & <int> & <chr> & <chr> & <dbl>\\\\\n",
       "\\hline\n",
       "\t1 & 1 & 27.7 & 22.99928 & 3 & 3180.058 & 34 & Overweight & DWAs &  6.4264644\\\\\n",
       "\t2 & 1 & 27.7 & 22.99928 & 3 & 3180.058 & 34 & Overweight & DWCd &  1.2929409\\\\\n",
       "\t3 & 1 & 27.7 & 22.99928 & 3 & 3180.058 & 34 & Overweight & DWCr & 51.6798741\\\\\n",
       "\t4 & 1 & 27.7 & 22.99928 & 3 & 3180.058 & 34 & Overweight & UAs  & 10.1926949\\\\\n",
       "\t5 & 1 & 27.7 & 22.99928 & 3 & 3180.058 & 34 & Overweight & UCd  &  0.7537104\\\\\n",
       "\t6 & 1 & 27.7 & 22.99928 & 3 & 3180.058 & 34 & Overweight & UCr  & 42.6018701\\\\\n",
       "\\end{tabular}\n"
      ],
      "text/markdown": [
       "\n",
       "A data.frame: 6 × 9\n",
       "\n",
       "| <!--/--> | ID &lt;int&gt; | BMI &lt;dbl&gt; | MAge &lt;dbl&gt; | MEdu &lt;int&gt; | BW &lt;dbl&gt; | GA &lt;int&gt; | Dichotomized_BMI &lt;chr&gt; | Chemical &lt;chr&gt; | Chemical_Concentration &lt;dbl&gt; |\n",
       "|---|---|---|---|---|---|---|---|---|---|\n",
       "| 1 | 1 | 27.7 | 22.99928 | 3 | 3180.058 | 34 | Overweight | DWAs |  6.4264644 |\n",
       "| 2 | 1 | 27.7 | 22.99928 | 3 | 3180.058 | 34 | Overweight | DWCd |  1.2929409 |\n",
       "| 3 | 1 | 27.7 | 22.99928 | 3 | 3180.058 | 34 | Overweight | DWCr | 51.6798741 |\n",
       "| 4 | 1 | 27.7 | 22.99928 | 3 | 3180.058 | 34 | Overweight | UAs  | 10.1926949 |\n",
       "| 5 | 1 | 27.7 | 22.99928 | 3 | 3180.058 | 34 | Overweight | UCd  |  0.7537104 |\n",
       "| 6 | 1 | 27.7 | 22.99928 | 3 | 3180.058 | 34 | Overweight | UCr  | 42.6018701 |\n",
       "\n"
      ],
      "text/plain": [
       "  ID BMI  MAge     MEdu BW       GA Dichotomized_BMI Chemical\n",
       "1 1  27.7 22.99928 3    3180.058 34 Overweight       DWAs    \n",
       "2 1  27.7 22.99928 3    3180.058 34 Overweight       DWCd    \n",
       "3 1  27.7 22.99928 3    3180.058 34 Overweight       DWCr    \n",
       "4 1  27.7 22.99928 3    3180.058 34 Overweight       UAs     \n",
       "5 1  27.7 22.99928 3    3180.058 34 Overweight       UCd     \n",
       "6 1  27.7 22.99928 3    3180.058 34 Overweight       UCr     \n",
       "  Chemical_Concentration\n",
       "1  6.4264644            \n",
       "2  1.2929409            \n",
       "3 51.6798741            \n",
       "4 10.1926949            \n",
       "5  0.7537104            \n",
       "6 42.6018701            "
      ]
     },
     "metadata": {},
     "output_type": "display_data"
    }
   ],
   "source": [
    "# Creating the combined dataframe with chemical and demographic data to answer question 2\n",
    "# First changing the chemical data from a wide to long format\n",
    "longer_chemical_data <- pivot_longer(chemical_data, cols = 2:7, names_to = \"Chemical\", \n",
    "                                    values_to = \"Chemical_Concentration\")\n",
    "demographic_chemical_data <- inner_join(demographic_data, longer_chemical_data) \n",
    "\n",
    "head(demographic_chemical_data)"
   ]
  }
 ],
 "metadata": {
  "kernelspec": {
   "display_name": "R",
   "language": "R",
   "name": "ir"
  },
  "language_info": {
   "codemirror_mode": "r",
   "file_extension": ".r",
   "mimetype": "text/x-r-source",
   "name": "R",
   "pygments_lexer": "r",
   "version": "4.1.3"
  }
 },
 "nbformat": 4,
 "nbformat_minor": 5
}
